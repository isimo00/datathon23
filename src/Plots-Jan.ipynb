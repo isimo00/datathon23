{
 "cells": [
  {
   "cell_type": "markdown",
   "id": "416db5bf-70e2-4619-ab99-a8464e8da275",
   "metadata": {},
   "source": [
    "# Plot Barcelona streets"
   ]
  },
  {
   "cell_type": "code",
   "execution_count": null,
   "id": "23668d72-f8fe-4f58-b455-53d675c7dbf0",
   "metadata": {},
   "outputs": [],
   "source": [
    "from geopandas import GeoDataFrame\n",
    "import pandas as pd\n",
    "from shapely.geometry import LineString\n",
    "import typing as T\n",
    "from itertools import zip_longest\n",
    "import os\n",
    "import folium"
   ]
  },
  {
   "cell_type": "code",
   "execution_count": null,
   "id": "6849d8d1-c358-438b-8dfe-14b7c1b476df",
   "metadata": {},
   "outputs": [],
   "source": [
    "def convert_line_to_wkt(line: str) -> LineString:\n",
    "    splitted_line = line.split(\",\")\n",
    "    reshaped_line = reshape_line(splitted_line, chunksize=2, fillvalue=None)\n",
    "    return LineString(reshaped_line)\n",
    "    \n",
    "def reshape_line(line: T.List[str], chunksize: int, fillvalue: int) -> T.Iterable[T.Tuple[float]]:\n",
    "    \"\"\"Reshape a line to match the LineString WKT format\n",
    "    \n",
    "    This is based on `zip_longest`, read more in \n",
    "    <https://docs.python.org/3/library/itertools.html#itertools.zip_longest> and\n",
    "    in the StackOverflow solution posted in <https://stackoverflow.com/a/434411/5819113>\n",
    "    \n",
    "    \n",
    "        zip_longest('ABCD', 'xy', fillvalue='-') --> Ax By C- D-\n",
    "       \n",
    "    \"\"\"\n",
    "    args = [iter(float(el) for el in line)] * chunksize\n",
    "    return zip_longest(*args, fillvalue=fillvalue)"
   ]
  },
  {
   "cell_type": "code",
   "execution_count": null,
   "id": "b6ef819e-853b-4161-80e4-f1f40d002fba",
   "metadata": {},
   "outputs": [],
   "source": [
    "streets = pd.read_csv(\"../data/transit_relacio_trams.csv\", sep=\",\")\n",
    "# let's process the whole column\n",
    "coords_wkt = streets[\"Coordenades\"].apply(lambda line: convert_line_to_wkt(line))\n",
    "crs = {'init': 'epsg:4326'}\n",
    "gdf = GeoDataFrame(streets, crs=crs, geometry=coords_wkt)\n",
    "ax = gdf.plot(cmap=\"viridis\")\n",
    "barcelona_map = folium.Map([41.3947,2.1557], zoom_start=12.4, tiles='cartodbpositron')\n",
    "folium.GeoJson(gdf).add_to(barcelona_map)"
   ]
  },
  {
   "cell_type": "code",
   "execution_count": null,
   "id": "e523d8c8-7ece-435f-8b24-b66d64cbb5eb",
   "metadata": {},
   "outputs": [],
   "source": [
    "list_schools = ['EEABB', 'EEBE', 'EETAC', 'EPSEB', 'EPSEM', 'ESEIAAT', 'ETSAB', 'ETSECCPB', 'ETSEIB', 'ETSETB', 'FIB', 'FME', 'FNB', 'FOOT']\n",
    "data = pd.DataFrame({\n",
    "   'lon':[1.9866716999999983, \n",
    "          2.2231519345468, \n",
    "          1.9872505, \n",
    "          2.1130787881117503, \n",
    "          1.8290409554431237, \n",
    "          2.020260374655512,\n",
    "          2.115296240644385, \n",
    "          2.1114770846571855,\n",
    "         2.11563799713493,\n",
    "         2.112271912477879,\n",
    "         2.113366253609662,\n",
    "         2.1156621824795994,\n",
    "         2.184497723790824,\n",
    "         2.0236185376204054],\n",
    "   'lat':[41.275919200000004, \n",
    "          41.414261499999995, \n",
    "          41.2755674, \n",
    "          41.3835842, \n",
    "          41.737127900000004, \n",
    "          41.56258005, \n",
    "          41.384277749999995, \n",
    "          41.38902913883299,\n",
    "         41.38491311671433,\n",
    "         41.38881605868467,\n",
    "         41.38950017997591,\n",
    "         41.38390531398507,\n",
    "         41.38396190629874,\n",
    "         41.56884538208665],\n",
    "   'Name': list_schools\n",
    "   #'Num_of_students':[10, 12, 40, 70, 23, 43, 100, 43]\n",
    "}, dtype=str)\n",
    "# add marker one by one on the map\n",
    "for i in range(0,len(data)):\n",
    "   folium.Marker(\n",
    "      location=[data.iloc[i]['lat'], data.iloc[i]['lon']],\n",
    "      popup=data.iloc[i]['Name'],\n",
    "   ).add_to(barcelona_map)\n",
    "\n",
    "# Show the map again\n",
    "barcelona_map"
   ]
  },
  {
   "cell_type": "markdown",
   "id": "fd39a6db-2899-4645-b37f-01f9709be16a",
   "metadata": {},
   "source": [
    "# Municipalities"
   ]
  },
  {
   "cell_type": "code",
   "execution_count": null,
   "id": "e1b95ada-63a6-471d-bd28-29a493c31058",
   "metadata": {},
   "outputs": [],
   "source": [
    "import geopandas as gpd\n",
    "\n",
    "path = \"../data/municipios.gdb\"\n",
    "spain = gpd.read_file(path)\n",
    "municipalities = pd.read_csv(\"../data/codigos_postales_municipios.csv\")\n",
    "spain = pd.merge(spain, municipalities.astype({'municipio_id': 'string','codigo_postal': 'string' }), how='left', left_on=['CODIGOINE'], right_on=['municipio_id'])\n",
    "spain.head()\n"
   ]
  },
  {
   "cell_type": "code",
   "execution_count": null,
   "id": "24d1eff2-c114-4264-ba38-5d48a82b95fe",
   "metadata": {},
   "outputs": [],
   "source": [
    "folium.GeoJson(spain).add_to(barcelona_map)\n",
    "barcelona_map"
   ]
  },
  {
   "cell_type": "markdown",
   "id": "fcee4d9b-df59-4118-84e4-e24fe48b79e7",
   "metadata": {},
   "source": [
    "# Renta (renta disponible)"
   ]
  },
  {
   "cell_type": "code",
   "execution_count": null,
   "id": "784b98dc-8e9e-40af-8b94-eea1664dc2e1",
   "metadata": {},
   "outputs": [],
   "source": [
    "renta_data = pd.read_csv(\"../data/renta.csv\")\n",
    "renta_data['Unnamed: 0'] = renta_data['Unnamed: 0'].str[0:5] # WE loose names for zip code regions in this step\n",
    "renta_data = renta_data.rename(columns={'Unnamed: 0': 'ZipCode'})\n",
    "renta_data['ZipCode'] = pd.to_numeric(renta_data['ZipCode'], errors='coerce')\n",
    "renta_data = renta_data[renta_data['ZipCode'].notna()].astype({'ZipCode': int})\n",
    "renta_data"
   ]
  },
  {
   "cell_type": "code",
   "execution_count": null,
   "id": "9fd6f26a-f993-477e-830d-6e5eb0e7174e",
   "metadata": {},
   "outputs": [],
   "source": []
  }
 ],
 "metadata": {
  "kernelspec": {
   "display_name": "Python 3 (ipykernel)",
   "language": "python",
   "name": "python3"
  },
  "language_info": {
   "codemirror_mode": {
    "name": "ipython",
    "version": 3
   },
   "file_extension": ".py",
   "mimetype": "text/x-python",
   "name": "python",
   "nbconvert_exporter": "python",
   "pygments_lexer": "ipython3",
   "version": "3.11.5"
  }
 },
 "nbformat": 4,
 "nbformat_minor": 5
}
